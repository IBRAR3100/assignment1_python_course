{
 "cells": [
  {
   "cell_type": "code",
   "execution_count": null,
   "id": "67fe5725",
   "metadata": {},
   "outputs": [],
   "source": []
  },
  {
   "cell_type": "markdown",
   "id": "ecbd3ad9",
   "metadata": {},
   "source": [
    "first program python"
   ]
  },
  {
   "cell_type": "code",
   "execution_count": null,
   "id": "5e189e39",
   "metadata": {},
   "outputs": [],
   "source": [
    "print(\"hello, world!\")"
   ]
  },
  {
   "cell_type": "code",
   "execution_count": null,
   "id": "f6f73b93",
   "metadata": {},
   "outputs": [],
   "source": []
  }
 ],
 "metadata": {
  "language_info": {
   "name": "python"
  }
 },
 "nbformat": 4,
 "nbformat_minor": 5
}
